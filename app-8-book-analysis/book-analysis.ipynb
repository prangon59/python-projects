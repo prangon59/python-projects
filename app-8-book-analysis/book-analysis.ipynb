{
 "cells": [
  {
   "cell_type": "markdown",
   "id": "2cd50ab2-71d0-4657-8338-2642ed889076",
   "metadata": {},
   "source": [
    "# Load the book"
   ]
  },
  {
   "cell_type": "code",
   "execution_count": 2,
   "id": "533fda14-37f4-42ab-8c6e-d084ef72ab58",
   "metadata": {},
   "outputs": [],
   "source": [
    "with open(\"miracle-in-the-andes.txt\", \"r\", encoding=\"UTF-8\") as file:\n",
    "    book = file.read()"
   ]
  },
  {
   "cell_type": "markdown",
   "id": "46a5feba-2ab6-4e57-b57b-9cdaa0da4300",
   "metadata": {},
   "source": [
    "# How many chapters?"
   ]
  },
  {
   "cell_type": "markdown",
   "id": "85129cc3-e4e6-4698-8c66-326fd3be646b",
   "metadata": {},
   "source": [
    "### With string methods"
   ]
  },
  {
   "cell_type": "code",
   "execution_count": 3,
   "id": "6a8b0f32-99c6-4933-a0cb-86a43be1fcb6",
   "metadata": {},
   "outputs": [
    {
     "data": {
      "text/plain": [
       "11"
      ]
     },
     "execution_count": 3,
     "metadata": {},
     "output_type": "execute_result"
    }
   ],
   "source": [
    "book.count(\"Chapter\")"
   ]
  },
  {
   "cell_type": "markdown",
   "id": "858df396-6222-4e82-afc9-04abb20e4f22",
   "metadata": {},
   "source": [
    "### With regex"
   ]
  },
  {
   "cell_type": "code",
   "execution_count": 6,
   "id": "10507684-e36d-48c1-811b-61c0c0ad2555",
   "metadata": {},
   "outputs": [],
   "source": [
    "import re"
   ]
  },
  {
   "cell_type": "code",
   "execution_count": 8,
   "id": "e4f2cdac-b5c7-4ae7-b530-a3d35ada5e06",
   "metadata": {},
   "outputs": [
    {
     "data": {
      "text/plain": [
       "['Chapter 1',\n",
       " 'Chapter 2',\n",
       " 'Chapter 3',\n",
       " 'Chapter 4',\n",
       " 'Chapter 5',\n",
       " 'Chapter 6',\n",
       " 'Chapter 7',\n",
       " 'Chapter 8',\n",
       " 'Chapter 9',\n",
       " 'Chapter 10']"
      ]
     },
     "execution_count": 8,
     "metadata": {},
     "output_type": "execute_result"
    }
   ],
   "source": [
    "pattern = re.compile(\"Chapter [0-9]+\")\n",
    "re.findall(pattern, book)"
   ]
  },
  {
   "cell_type": "markdown",
   "id": "4c997179-896d-44e7-abeb-a1c651fdda8f",
   "metadata": {},
   "source": [
    "# Finding whole sentence that contains a certain word"
   ]
  },
  {
   "cell_type": "code",
   "execution_count": 9,
   "id": "9017028a-7667-4554-a301-04e745e5060c",
   "metadata": {},
   "outputs": [
    {
     "name": "stdout",
     "output_type": "stream",
     "text": [
      "['love', 'love', 'love', 'love', 'love', 'love', 'love', 'love', 'love', 'love', 'love', 'love', 'love', 'love', 'love', 'love', 'love', 'love', 'love', 'love', 'love', 'love', 'love', 'love', 'love', 'love', 'love', 'love', 'love', 'love', 'love', 'love', 'love', 'love', 'love', 'love', 'love', 'love', 'love', 'love', 'love', 'love', 'love', 'love', 'love', 'love', 'love', 'love', 'love', 'love', 'love', 'love', 'love', 'love', 'love', 'love', 'love', 'love', 'love', 'love', 'love', 'love', 'love', 'love', 'love', 'love', 'love', 'love', 'love', 'love', 'love', 'love', 'love', 'love', 'love', 'love', 'love', 'love', 'love', 'love', 'love', 'love', 'love', 'love', 'love', 'love', 'love', 'love', 'love', 'love', 'love', 'love', 'love', 'love', 'love', 'love', 'love', 'love', 'love', 'love', 'love', 'love', 'love', 'love', 'love', 'love', 'love', 'love', 'love', 'love', 'love', 'love', 'love', 'love']\n"
     ]
    }
   ],
   "source": [
    "pattern = re.compile(\"love\")\n",
    "findings = re.findall(pattern, book)\n",
    "print(findings)"
   ]
  },
  {
   "cell_type": "code",
   "execution_count": 13,
   "id": "7fde4e25-264a-4972-828a-2e2dd25bc64d",
   "metadata": {},
   "outputs": [
    {
     "name": "stdout",
     "output_type": "stream",
     "text": [
      "[' and under the guidance of the Christian Brothers we developed a passionate love for', ' playing soccer and sharing a love of', ' both of us grew to love the', ' when he met and fell in love with', ' I believe he had a great hunger for the love and', ' a love for', ' and this more than anything made my mother love it', ' but her strength was always based in warmth and love and because of her love and', ' he always showed his love for', ' Out of love for', 's love for', ' an experience that taught her to love the', ' the sweetness of my love for', ' embracing her as if I were embracing all the love and', ' I felt my love for', ' my love for', 'Thinking of my father this way always triggered in me a burst of love so', ' but still she had the courage and love to', ' to love God and to love others', ' I would think of him and let my heart fill with love for', ' and this love would', ' my love for', 'All we can do is love God and love others', ' we can love our', 'You will tell my family that I love them', ' he made love to', ' The shoes were magical for me because my mother had chosen them with such love for', ' My love for', ' Only love can', ' I would walk through the godforsaken country that separated me from my home with love and', 'the love of', ' this love and', ' and my heart swelled with love as', ' that his love had', 'I love it', ' and I fell in love with', ' I had thought I could never love anything', ' I was struck senseless by my love for', 'I had been given so much love and', ' but I never doubted his love when', ' that love was', ' and in the end it was that strong cord of love that', ' the love in', ' as I felt this love swell', ' I love to', ' but my experiences have taught me that without the love of', ' I reaffirm my love and', ' I try to direct that tide of love toward', ' it was love that', ' so I relied upon the trust I felt in my love for', ' the only way I will find it is through the love I', ' I have tried to love my']\n"
     ]
    }
   ],
   "source": [
    "pattern = re.compile(\"[a-zA-Z ]* love [a-zA-Z]*\")\n",
    "findings = re.findall(pattern, book)\n",
    "print(findings)"
   ]
  },
  {
   "cell_type": "code",
   "execution_count": 17,
   "id": "13a83028-40ea-43aa-ae3c-dbd36d311647",
   "metadata": {},
   "outputs": [
    {
     "name": "stdout",
     "output_type": "stream",
     "text": [
      "[' As a young man, of course, I could not put these things into words, but I knew, and my teammates knew, that there was something special about the game, and under the guidance of the Christian Brothers we developed a passionate love for the sport that shaped our friendships and our lives.', ' Guido and I grew up together, playing soccer and sharing a love of motorcycles, cars, and auto racing.', ' Under the guidance of the Christian Brothers, both of us grew to love the game of rugby with a consuming passion.', ' That rowdiness came to an abrupt end for Guido in 1969, when he met and fell in love with the beautiful daughter of a Chilean diplomat.', ' I believe he had a great hunger for the love and comforts of a family that was happy and whole.', ' He shared, with my father and me, a love for cars and driving, and he loved going with us to auto races.', ' The house had a beautiful view of the sea, and this more than anything made my mother love it.', ' She was a true tower of strength, but her strength was always based in warmth and love and because of her love and protection I grew up believing the world was a safe, familiar place.', ' He had given us a life of comfort and privilege such as his own father never could have imagined, he had provided for us and protected us in the best way he could, and though he was not an emotionally expressive man, he always showed his love for us subtly, quietly, and in ways that were true to the man he was.', ' Out of love for his family he had arranged in his mind a future that would keep us all safe, happy, and always together.', ' Susy shared my mother’s love for the closeness of family, but she was no stay-at-home girl.', ' When she was sixteen she spent a year as an exchange student living with a family in Florida, an experience that taught her to love the U.', ' As I lay beside her, the sweetness of my love for her, for my lost friends and my family, for the suddenly fragile notion of my own life and future, swelled in my heart with an ache so profound it sapped all my strength, and for a moment I thought I would pass out.', ' I pressed my cheek against hers so I could feel her warm breath on my face, and held her that way all night, gently, but very close, never letting go, embracing her as if I were embracing all the love and peace and joy I had ever known and would ever know; as if by holding on tight I could keep everything precious from slipping away.', ' I felt my love for my father tugging at me like a lifeline, drawing me toward those barren slopes.', '\\n\\nIn the days after Susy died, my love for my father was the only thing that kept me sane, and time after time I would calm myself by reaffirming the promise I had made at Susy’s grave: to return to him; to show him I had survived and to ease his suffering a little.', '\\n\\nThinking of my father this way always triggered in me a burst of love so radiant and urgent that it took my breath away.', ' Bobby, are you warm enough? Do you want me to rub your feet?” She worried constantly about the children she had left at home, but still she had the courage and love to mother these frightened boys who were so far from their families.', ' It was our job to follow His commandments, to take the sacraments, to love God and to love others as Jesus had taught us.', ' I would think of him and let my heart fill with love for him, and this love would be stronger than my suffering, or my fear.', ' After two weeks on the mountain, my love for my father had taken on the irresistible power of a biological drive.', ' “All we can do is love God and love others and trust in God’s will.', ' Even if we are trapped here forever, we can love our families, and God, and each other as long as we live.', '\\n\\n“You will tell my family that I love them, won’t you? That’s all that matters to me now.', ' But he lived so many lifetimes, had so many adventures, and, macho, he made love to so many beautiful girls.', ' The shoes were magical for me because my mother had chosen them with such love for her grandson, and had handled them so tenderly on the plane.', ' My love for my father swelled in my heart, and I realized that, despite the hopelessness of my situation, the memory of him filled me with joy.', ' Only love can turn mere life into a miracle, and draw precious meaning from suffering and fear.', ' I would walk through the godforsaken country that separated me from my home with love and hope in my heart.', ' But still, still, I longed for the very things I knew I would never have—the love of a wife, a family of my own, a reunion with my grandmother and older sister, and always the embrace of my father.', ' My ordeal had simplified my mind and whittled me down very close to the essence of what I was, and now I saw that this longing, this love and affection for the very idea of my life, was a deeper part of me than hopelessness or fear or pain or hunger.', ' In seconds she was in my arms, and my heart swelled with love as I held her.', '”\\n\\nThere was so much I wanted to tell him, that I had thought of him every moment, that his love had been the guiding light that led me to safety.', ' Where should I begin? “I love it,” I said, finally.', ' She stepped off the train with only a backpack and a small duffel, looking very beautiful, and I fell in love with her all over again.', ' Until then, I had thought I could never love anything as much as I loved my wife, but when I gazed into my baby’s face, I was struck senseless by my love for her.', ' I felt a sudden, staggering sense of gratitude for the rich joys of my life—I had been given so much love and happiness—and I realized that every grueling step I had taken through that godforsaken wilderness was a step toward the tiny, precious miracle I held in my arms.', ' He was never an openly affectionate man, but I never doubted his love when I was a boy.', ' When I was in the mountains, stranded in the shadows of death, that love was like a safety line anchored in the world of the living.', ' As long as I held on to that love, I was not lost, I was connected to my home and to my future, and in the end it was that strong cord of love that led me out of danger.', ' There was love, the love in my heart, and for one incredible moment, as I felt this love swell—love for my father, for my future, for the simple wonder of being alive—death lost its power.', ' I love to travel.', ' I believe life should be enjoyed, but my experiences have taught me that without the love of my family and my friends, all the trappings of worldly success would ring hollow.', ' I savor them and let each one become a miniature eternity, and by living these small moments of my life so fully, I defy the shadow of death that hovers over all of us, I reaffirm my love and gratitude for all the gifts I’ve been given, and I fill myself more and more deeply with life.', ' I open myself to it, I try to direct that tide of love toward the people who are close to me, hoping to protect them and bind them to me forever and connect us all to whatever there is in the world that is eternal.', ' In the mountains, it was love that kept me connected to the world of the living.', ' I had no expertise to draw on, so I relied upon the trust I felt in my love for my father and my future, and that trust led me home.', ' Now I am convinced that if there is something divine in the universe, the only way I will find it is through the love I feel for my family and my friends, and through the simple wonder of being alive.', ' I have tried to love my friends with a loyal and generous heart.']\n"
     ]
    }
   ],
   "source": [
    "pattern = re.compile(\"[^.]* love [^.]*.\")\n",
    "findings = re.findall(pattern, book)\n",
    "print(findings)"
   ]
  },
  {
   "cell_type": "code",
   "execution_count": 22,
   "id": "93339c2d-e8f7-48f8-a0c2-4e3669908505",
   "metadata": {},
   "outputs": [
    {
     "data": {
      "text/plain": [
       "67"
      ]
     },
     "execution_count": 22,
     "metadata": {},
     "output_type": "execute_result"
    }
   ],
   "source": [
    "pattern = re.compile(\"[A-Z]{1}[^.]*[^a-zA-Z]+love[^a-zA-Z]+[^.]*.\")\n",
    "findings = re.findall(pattern, book)\n",
    "len(findings)"
   ]
  },
  {
   "cell_type": "markdown",
   "id": "4e2a1123-b9ec-40a7-b210-9f4e6dbd0538",
   "metadata": {},
   "source": [
    "# What are the most used words?"
   ]
  },
  {
   "cell_type": "code",
   "execution_count": 24,
   "id": "5e9bc81e-dcf5-45a0-8c79-2a5cb99666b5",
   "metadata": {},
   "outputs": [
    {
     "data": {
      "text/plain": [
       "['chapter', 'before', 'it', 'was', 'friday']"
      ]
     },
     "execution_count": 24,
     "metadata": {},
     "output_type": "execute_result"
    }
   ],
   "source": [
    "pattern = re.compile(\"[a-zA-Z]+\")\n",
    "findings = re.findall(pattern, book.lower())\n",
    "findings[:5]"
   ]
  },
  {
   "cell_type": "code",
   "execution_count": 29,
   "id": "83713016-58d9-4722-ac35-e4f40f1c1bde",
   "metadata": {},
   "outputs": [],
   "source": [
    "d = {}\n",
    "for word in findings:\n",
    "    if word in d.keys():\n",
    "        d[word] = d[word] + 1\n",
    "    else:\n",
    "        d[word] = 1"
   ]
  },
  {
   "cell_type": "code",
   "execution_count": 34,
   "id": "41506cad-4c34-4e4a-8490-d875fca3cbf9",
   "metadata": {},
   "outputs": [
    {
     "data": {
      "text/plain": [
       "[(11, 'chapter'), (93, 'before'), (800, 'it'), (1430, 'was'), (1, 'friday')]"
      ]
     },
     "execution_count": 34,
     "metadata": {},
     "output_type": "execute_result"
    }
   ],
   "source": [
    "d_list = [(value, key) for (key, value) in d.items()]\n",
    "sorted(d_list,reverse=True)\n",
    "d_list[:5]"
   ]
  },
  {
   "cell_type": "markdown",
   "id": "eb78ca61-87dd-4309-be2d-2de5c4e6289b",
   "metadata": {},
   "source": [
    "# Extract paragrapghs where \"love\" used"
   ]
  },
  {
   "cell_type": "code",
   "execution_count": 37,
   "id": "0d1cfe9b-3152-4f27-b8d4-e6de6dcb5cd3",
   "metadata": {},
   "outputs": [
    {
     "data": {
      "text/plain": [
       "['To me, this is the essence of rugby. No other sport gives you such an intense sense of selflessness and unified purpose. I believe this is why rugby players all over the world feel such a passion for the game and such a feeling of brotherhood. As a young man, of course, I could not put these things into words, but I knew, and my teammates knew, that there was something special about the game, and under the guidance of the Christian Brothers we developed a passionate love for the sport that shaped our friendships and our lives. For eight years we played our hearts out for the Christian Brothers—a brotherhood of young boys with Latin names, playing a game with deep Anglo roots under Uruguay’s sunny skies, and proudly wearing the bright green shamrock on our uniforms. The game became so much a part of our lives, in fact, that when we graduated from Stella Maris at the age of sixteen, many of us could not bear the thought that our playing days were over. Our salvation came in the form of the Old Christians Club, a private rugby team formed in 1965 by previous alumni of the Stella Maris rugby program to give Stella Maris ruggers a chance to continue playing the game after our school years ended.',\n",
       " 'There were others—Alexis Hounie, Gastón Costemalle, Daniel Shaw—all of them great players and all of them my friends. But my oldest friend was Guido Magri. He and I had met on my first day at the Stella Maris School—I was eight years old and Guido was one year older—and we had been inseparable ever since. Guido and I grew up together, playing soccer and sharing a love of motorcycles, cars, and auto racing. When I was fifteen we both had mopeds that we had modified in silly ways—removing the mufflers, turn signals, and fenders—and we would ride them to Las Delicias, a famous ice cream parlor in our neighborhood, where we would drool over the girls from the nearby School Sagrado Corazón, hoping to impress them with our souped-up scooters. Guido was a dependable friend, with a good sense of humor and an easy laugh. He was also an outstanding scrum half, as quick and smart as a fox, with good hands and great courage. Under the guidance of the Christian Brothers, both of us grew to love the game of rugby with a consuming passion. As seasons passed we worked hard to improve our skills, and by the time I was fifteen we had each earned a spot on the Stella Maris First XV, the team’s starting lineup. After graduation, both of us went on to join the Old Christians and spent several happy seasons pursuing the high-octane social life of young rugby players. That rowdiness came to an abrupt end for Guido in 1969, when he met and fell in love with the beautiful daughter of a Chilean diplomat. She was now his fiancée, and he was happy to behave himself for her sake.']"
      ]
     },
     "execution_count": 37,
     "metadata": {},
     "output_type": "execute_result"
    }
   ],
   "source": [
    "pattern = re.compile(\"[^\\n]+love[^\\n]+\")\n",
    "findings = re.findall(pattern, book)\n",
    "findings[:2]"
   ]
  },
  {
   "cell_type": "markdown",
   "id": "d1aa8f08-ed7a-4d56-94af-19b3b3127614",
   "metadata": {},
   "source": [
    "# Extract the chapter titles"
   ]
  },
  {
   "cell_type": "code",
   "execution_count": 38,
   "id": "a8ccd4b7-bf39-4c7c-94f5-7b57ee16fa97",
   "metadata": {},
   "outputs": [
    {
     "data": {
      "text/plain": [
       "['Before',\n",
       " 'Everything Precious',\n",
       " 'A Promise',\n",
       " 'Breathe Once More',\n",
       " 'Abandoned',\n",
       " 'Tomb',\n",
       " 'East',\n",
       " 'The Opposite of Death',\n",
       " 'I See a Man',\n",
       " 'After']"
      ]
     },
     "execution_count": 38,
     "metadata": {},
     "output_type": "execute_result"
    }
   ],
   "source": [
    "pattern = re.compile(\"([a-zA-Z ]+)\\n\\n\")\n",
    "findings = re.findall(pattern, book)\n",
    "findings"
   ]
  },
  {
   "cell_type": "markdown",
   "id": "7e235170-4e5d-4ef0-86ad-5da84484c7b3",
   "metadata": {},
   "source": [
    "# Functions that finds occurances of any word"
   ]
  },
  {
   "cell_type": "code",
   "execution_count": 50,
   "id": "c6bc0914-c195-41ab-b1c4-9bfdc3ff1c81",
   "metadata": {},
   "outputs": [],
   "source": [
    "def find(w):\n",
    "    pattern = re.compile(\"[a-zA-Z]+\")\n",
    "    findings = re.findall(pattern, book)\n",
    "    d = {}\n",
    "    for word in findings:\n",
    "        if word in d.keys():\n",
    "            d[word] = d[word] + 1\n",
    "        else:\n",
    "            d[word] = 1\n",
    "    try:\n",
    "        return d[w]\n",
    "    except:\n",
    "        return f'The book does not contain the word \"{w}\"'"
   ]
  },
  {
   "cell_type": "code",
   "execution_count": 48,
   "id": "63e24552-4350-401e-b7a3-eab7a07238bf",
   "metadata": {},
   "outputs": [
    {
     "data": {
      "text/plain": [
       "82"
      ]
     },
     "execution_count": 48,
     "metadata": {},
     "output_type": "execute_result"
    }
   ],
   "source": [
    "find(\"love\")"
   ]
  },
  {
   "cell_type": "code",
   "execution_count": 51,
   "id": "4a0e3dd5-1592-446e-8fd6-8760ac0cd5fc",
   "metadata": {},
   "outputs": [
    {
     "data": {
      "text/plain": [
       "'The book does not contain the word \"hate\"'"
      ]
     },
     "execution_count": 51,
     "metadata": {},
     "output_type": "execute_result"
    }
   ],
   "source": [
    "find(\"hate\")"
   ]
  }
 ],
 "metadata": {
  "kernelspec": {
   "display_name": "Python 3 (ipykernel)",
   "language": "python",
   "name": "python3"
  },
  "language_info": {
   "codemirror_mode": {
    "name": "ipython",
    "version": 3
   },
   "file_extension": ".py",
   "mimetype": "text/x-python",
   "name": "python",
   "nbconvert_exporter": "python",
   "pygments_lexer": "ipython3",
   "version": "3.11.9"
  }
 },
 "nbformat": 4,
 "nbformat_minor": 5
}
